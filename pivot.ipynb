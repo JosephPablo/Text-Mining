{
 "cells": [
  {
   "cell_type": "code",
   "execution_count": 2,
   "metadata": {},
   "outputs": [
    {
     "name": "stdout",
     "output_type": "stream",
     "text": [
      "The shape of our data: (401, 7) \n",
      "\n",
      "Column headings:\n",
      "Index(['Work Card Ref', 'ATA ', 'Discrepancy / Action Required',\n",
      "       'Rectification', 'Year', 'Defect Type', 'Defect Item'],\n",
      "      dtype='object')\n"
     ]
    },
    {
     "name": "stderr",
     "output_type": "stream",
     "text": [
      "/Users/varun/anaconda3/lib/python3.6/site-packages/pandas/io/excel.py:329: FutureWarning: The `sheetname` keyword is deprecated, use `sheet_name` instead\n",
      "  **kwds)\n"
     ]
    }
   ],
   "source": [
    "import pandas as pd\n",
    "from pandas import ExcelWriter\n",
    "from pandas import ExcelFile\n",
    "import matplotlib.pyplot as plt \n",
    "df1 = pd.read_excel(r'/Users/varun/Desktop/ST/backup.xlsx', sheetname='Sheet1')\n",
    "print(\"The shape of our data:\",df1.shape,\"\\n\") \n",
    "print(\"Column headings:\")\n",
    "print(df1.columns)"
   ]
  },
  {
   "cell_type": "code",
   "execution_count": null,
   "metadata": {},
   "outputs": [],
   "source": []
  },
  {
   "cell_type": "code",
   "execution_count": 3,
   "metadata": {},
   "outputs": [],
   "source": [
    "df1[\"Defect Item\"]=df1[\"Defect Item\"].astype(str)"
   ]
  },
  {
   "cell_type": "code",
   "execution_count": 4,
   "metadata": {},
   "outputs": [],
   "source": [
    "df1[\"Defect Type\"]=df1[\"Defect Type\"].astype(str)"
   ]
  },
  {
   "cell_type": "code",
   "execution_count": 5,
   "metadata": {},
   "outputs": [
    {
     "data": {
      "text/plain": [
       "0"
      ]
     },
     "execution_count": 5,
     "metadata": {},
     "output_type": "execute_result"
    }
   ],
   "source": [
    "df1[\"Defect Item\"].isnull().sum()"
   ]
  },
  {
   "cell_type": "code",
   "execution_count": 6,
   "metadata": {},
   "outputs": [
    {
     "data": {
      "text/plain": [
       "str"
      ]
     },
     "execution_count": 6,
     "metadata": {},
     "output_type": "execute_result"
    }
   ],
   "source": [
    "type(df1[\"Defect Item\"][0])"
   ]
  },
  {
   "cell_type": "code",
   "execution_count": 7,
   "metadata": {},
   "outputs": [
    {
     "data": {
      "text/plain": [
       "nan                       227\n",
       "TIRE                       53\n",
       "WHEEL ASSEMBLY             50\n",
       "BATTERY CHARGER             8\n",
       "GEAR                        7\n",
       "ENGINE                      5\n",
       "TCAS                        5\n",
       "LIGHTS                      4\n",
       "AD                          3\n",
       "BRAKE                       2\n",
       "FIRE BOX                    2\n",
       "DETECTOR CONTROL UNIT       2\n",
       "P30                         1\n",
       "WHEEL BEARING               1\n",
       "CAMERA                      1\n",
       "BOTTLE                      1\n",
       "DOOR CONTROL SWITCH         1\n",
       "TEMPERATURE SENSOR          1\n",
       "HEADSET                     1\n",
       "CVR                         1\n",
       "LANDING LIGHT               1\n",
       "LIMIT                       1\n",
       "GPS                         1\n",
       "SIGNS BULBS                 1\n",
       "IGNITION EXCITER            1\n",
       "ADS                         1\n",
       "COFFEE CAPSULE HOLDER       1\n",
       "INDICATOR                   1\n",
       "CONTROL VALVE               1\n",
       "TAXI LIGHT                  1\n",
       "SDU                         1\n",
       "ICE DETECTOR MESSAGE        1\n",
       "APU                         1\n",
       "HEATING SYSTEM              1\n",
       "IGNITOR PLUG                1\n",
       "FIRE BOTTLE                 1\n",
       "THROTTLE QUADRANT ASSY      1\n",
       "LEVEL SENSOR                1\n",
       "LIGHT UNSERVICEABLE         1\n",
       "DOOR                        1\n",
       "AMPLIFIER                   1\n",
       "ANTENNA                     1\n",
       "BULB                        1\n",
       "ESPRESSO MAUER              1\n",
       "HYDRAULIC TANK              1\n",
       "dtype: int64"
      ]
     },
     "execution_count": 7,
     "metadata": {},
     "output_type": "execute_result"
    }
   ],
   "source": [
    "pd.value_counts(df1['Defect Item'].values,ascending=False )"
   ]
  },
  {
   "cell_type": "code",
   "execution_count": 8,
   "metadata": {},
   "outputs": [
    {
     "data": {
      "text/plain": [
       "nan                          227\n",
       "WORN                          54\n",
       "BUILT UP                      49\n",
       "FAIL                          13\n",
       "UNSERVICEABLE                 13\n",
       "NITROGEN                       8\n",
       "INOPERATIVE                    4\n",
       "OPERATE INTERMITTENTLY         4\n",
       "COMPLIANCE                     4\n",
       "DAMAGE                         4\n",
       "MAINTENANCE                    3\n",
       "OIL                            3\n",
       "PAINT DAMAGE                   2\n",
       "LUBRICATION                    2\n",
       "ILLUMINATED PERMANENTLY        2\n",
       "MESSAGE ALWAYS POSTED          1\n",
       "MISSING                        1\n",
       "DISLOGED                       1\n",
       "RELOCATION                     1\n",
       "NOT RECEIVING MEASUREMENT      1\n",
       "NOT LIGHT UP                   1\n",
       "LEAKING                        1\n",
       "BLOWN                          1\n",
       "DEFECTIVE                      1\n",
       "dtype: int64"
      ]
     },
     "execution_count": 8,
     "metadata": {},
     "output_type": "execute_result"
    }
   ],
   "source": [
    "pd.value_counts(df1['Defect Type'].values,ascending=False )"
   ]
  },
  {
   "cell_type": "code",
   "execution_count": null,
   "metadata": {},
   "outputs": [],
   "source": []
  }
 ],
 "metadata": {
  "kernelspec": {
   "display_name": "Python 3",
   "language": "python",
   "name": "python3"
  },
  "language_info": {
   "codemirror_mode": {
    "name": "ipython",
    "version": 3
   },
   "file_extension": ".py",
   "mimetype": "text/x-python",
   "name": "python",
   "nbconvert_exporter": "python",
   "pygments_lexer": "ipython3",
   "version": "3.6.7"
  }
 },
 "nbformat": 4,
 "nbformat_minor": 2
}
