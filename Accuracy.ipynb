{
 "cells": [
  {
   "cell_type": "code",
   "execution_count": 1,
   "metadata": {},
   "outputs": [],
   "source": [
    "import numpy as np\n",
    "import pandas as pd\n",
    "import nltk\n",
    "import spacy\n",
    "from tqdm import tqdm\n",
    "import os\n",
    "import re\n",
    "import seaborn as sns\n",
    "import matplotlib.pyplot as plt\n",
    "\n",
    "%matplotlib inline"
   ]
  },
  {
   "cell_type": "code",
   "execution_count": 2,
   "metadata": {},
   "outputs": [
    {
     "name": "stderr",
     "output_type": "stream",
     "text": [
      "/Users/varun/anaconda3/lib/python3.6/site-packages/pandas/io/excel.py:329: FutureWarning: The `sheetname` keyword is deprecated, use `sheet_name` instead\n",
      "  **kwds)\n"
     ]
    }
   ],
   "source": [
    "df1 = pd.read_excel(r'/Users/varun/Desktop/ST/Accuracy.xlsx', sheetname='Sheet1')"
   ]
  },
  {
   "cell_type": "code",
   "execution_count": 3,
   "metadata": {},
   "outputs": [
    {
     "data": {
      "text/html": [
       "<div>\n",
       "<style scoped>\n",
       "    .dataframe tbody tr th:only-of-type {\n",
       "        vertical-align: middle;\n",
       "    }\n",
       "\n",
       "    .dataframe tbody tr th {\n",
       "        vertical-align: top;\n",
       "    }\n",
       "\n",
       "    .dataframe thead th {\n",
       "        text-align: right;\n",
       "    }\n",
       "</style>\n",
       "<table border=\"1\" class=\"dataframe\">\n",
       "  <thead>\n",
       "    <tr style=\"text-align: right;\">\n",
       "      <th></th>\n",
       "      <th>Defect Type_1</th>\n",
       "      <th>Defect Item_1</th>\n",
       "      <th>Defect Type</th>\n",
       "      <th>Defect Item</th>\n",
       "    </tr>\n",
       "  </thead>\n",
       "  <tbody>\n",
       "    <tr>\n",
       "      <th>0</th>\n",
       "      <td>NaN</td>\n",
       "      <td>NaN</td>\n",
       "      <td>FAIL</td>\n",
       "      <td>BATTERY</td>\n",
       "    </tr>\n",
       "    <tr>\n",
       "      <th>1</th>\n",
       "      <td>NaN</td>\n",
       "      <td>NaN</td>\n",
       "      <td>NaN</td>\n",
       "      <td>NaN</td>\n",
       "    </tr>\n",
       "    <tr>\n",
       "      <th>2</th>\n",
       "      <td>WORN</td>\n",
       "      <td>TIRE</td>\n",
       "      <td>WORN</td>\n",
       "      <td>TIRE</td>\n",
       "    </tr>\n",
       "    <tr>\n",
       "      <th>3</th>\n",
       "      <td>ILLUMINATED PERMANENTLY</td>\n",
       "      <td>INDICATOR</td>\n",
       "      <td>ILLUMINATED PERMANENTLY</td>\n",
       "      <td>INDICATOR</td>\n",
       "    </tr>\n",
       "    <tr>\n",
       "      <th>4</th>\n",
       "      <td>NaN</td>\n",
       "      <td>NaN</td>\n",
       "      <td>NaN</td>\n",
       "      <td>NaN</td>\n",
       "    </tr>\n",
       "    <tr>\n",
       "      <th>5</th>\n",
       "      <td>MESSAGE ALWAYS POSTED</td>\n",
       "      <td>ICE DETECTOR MESSAGE</td>\n",
       "      <td>MESSAGE ALWAYS POSTED</td>\n",
       "      <td>ICE DETECTOR MESSAGE</td>\n",
       "    </tr>\n",
       "    <tr>\n",
       "      <th>6</th>\n",
       "      <td>NaN</td>\n",
       "      <td>NaN</td>\n",
       "      <td>NaN</td>\n",
       "      <td>NaN</td>\n",
       "    </tr>\n",
       "    <tr>\n",
       "      <th>7</th>\n",
       "      <td>UNSERVICEABLE</td>\n",
       "      <td>ESPRESSO MAUER</td>\n",
       "      <td>UNSERVICEABLE</td>\n",
       "      <td>ESPRESSO MAUER</td>\n",
       "    </tr>\n",
       "    <tr>\n",
       "      <th>8</th>\n",
       "      <td>NaN</td>\n",
       "      <td>NaN</td>\n",
       "      <td>BUILT UP</td>\n",
       "      <td>WHEEL ASSEMBLY</td>\n",
       "    </tr>\n",
       "    <tr>\n",
       "      <th>9</th>\n",
       "      <td>NaN</td>\n",
       "      <td>NaN</td>\n",
       "      <td>NaN</td>\n",
       "      <td>NaN</td>\n",
       "    </tr>\n",
       "  </tbody>\n",
       "</table>\n",
       "</div>"
      ],
      "text/plain": [
       "             Defect Type_1         Defect Item_1              Defect Type  \\\n",
       "0                      NaN                   NaN                     FAIL   \n",
       "1                      NaN                   NaN                      NaN   \n",
       "2                     WORN                  TIRE                     WORN   \n",
       "3  ILLUMINATED PERMANENTLY             INDICATOR  ILLUMINATED PERMANENTLY   \n",
       "4                      NaN                   NaN                      NaN   \n",
       "5    MESSAGE ALWAYS POSTED  ICE DETECTOR MESSAGE    MESSAGE ALWAYS POSTED   \n",
       "6                      NaN                   NaN                      NaN   \n",
       "7            UNSERVICEABLE        ESPRESSO MAUER            UNSERVICEABLE   \n",
       "8                      NaN                   NaN                 BUILT UP   \n",
       "9                      NaN                   NaN                      NaN   \n",
       "\n",
       "            Defect Item  \n",
       "0               BATTERY  \n",
       "1                   NaN  \n",
       "2                  TIRE  \n",
       "3             INDICATOR  \n",
       "4                   NaN  \n",
       "5  ICE DETECTOR MESSAGE  \n",
       "6                   NaN  \n",
       "7        ESPRESSO MAUER  \n",
       "8        WHEEL ASSEMBLY  \n",
       "9                   NaN  "
      ]
     },
     "execution_count": 3,
     "metadata": {},
     "output_type": "execute_result"
    }
   ],
   "source": [
    "df1[0:10]"
   ]
  },
  {
   "cell_type": "code",
   "execution_count": 4,
   "metadata": {},
   "outputs": [],
   "source": [
    "df1['Defect Type']=df1['Defect Type'].astype(str)\n",
    "df1['Defect Item']=df1['Defect Item'].astype(str)\n",
    "df1['Defect Type_1']=df1['Defect Type_1'].astype(str)\n",
    "df1['Defect Item_1']=df1['Defect Item_1'].astype(str)"
   ]
  },
  {
   "cell_type": "code",
   "execution_count": 5,
   "metadata": {},
   "outputs": [
    {
     "data": {
      "text/html": [
       "<div>\n",
       "<style scoped>\n",
       "    .dataframe tbody tr th:only-of-type {\n",
       "        vertical-align: middle;\n",
       "    }\n",
       "\n",
       "    .dataframe tbody tr th {\n",
       "        vertical-align: top;\n",
       "    }\n",
       "\n",
       "    .dataframe thead th {\n",
       "        text-align: right;\n",
       "    }\n",
       "</style>\n",
       "<table border=\"1\" class=\"dataframe\">\n",
       "  <thead>\n",
       "    <tr style=\"text-align: right;\">\n",
       "      <th></th>\n",
       "      <th>Defect Type_1</th>\n",
       "      <th>Defect Item_1</th>\n",
       "      <th>Defect Type</th>\n",
       "      <th>Defect Item</th>\n",
       "    </tr>\n",
       "  </thead>\n",
       "  <tbody>\n",
       "    <tr>\n",
       "      <th>0</th>\n",
       "      <td>nan</td>\n",
       "      <td>nan</td>\n",
       "      <td>FAIL</td>\n",
       "      <td>BATTERY</td>\n",
       "    </tr>\n",
       "    <tr>\n",
       "      <th>1</th>\n",
       "      <td>nan</td>\n",
       "      <td>nan</td>\n",
       "      <td>nan</td>\n",
       "      <td>nan</td>\n",
       "    </tr>\n",
       "    <tr>\n",
       "      <th>2</th>\n",
       "      <td>WORN</td>\n",
       "      <td>TIRE</td>\n",
       "      <td>WORN</td>\n",
       "      <td>TIRE</td>\n",
       "    </tr>\n",
       "    <tr>\n",
       "      <th>3</th>\n",
       "      <td>ILLUMINATED PERMANENTLY</td>\n",
       "      <td>INDICATOR</td>\n",
       "      <td>ILLUMINATED PERMANENTLY</td>\n",
       "      <td>INDICATOR</td>\n",
       "    </tr>\n",
       "    <tr>\n",
       "      <th>4</th>\n",
       "      <td>nan</td>\n",
       "      <td>nan</td>\n",
       "      <td>nan</td>\n",
       "      <td>nan</td>\n",
       "    </tr>\n",
       "    <tr>\n",
       "      <th>5</th>\n",
       "      <td>MESSAGE ALWAYS POSTED</td>\n",
       "      <td>ICE DETECTOR MESSAGE</td>\n",
       "      <td>MESSAGE ALWAYS POSTED</td>\n",
       "      <td>ICE DETECTOR MESSAGE</td>\n",
       "    </tr>\n",
       "    <tr>\n",
       "      <th>6</th>\n",
       "      <td>nan</td>\n",
       "      <td>nan</td>\n",
       "      <td>nan</td>\n",
       "      <td>nan</td>\n",
       "    </tr>\n",
       "    <tr>\n",
       "      <th>7</th>\n",
       "      <td>UNSERVICEABLE</td>\n",
       "      <td>ESPRESSO MAUER</td>\n",
       "      <td>UNSERVICEABLE</td>\n",
       "      <td>ESPRESSO MAUER</td>\n",
       "    </tr>\n",
       "    <tr>\n",
       "      <th>8</th>\n",
       "      <td>nan</td>\n",
       "      <td>nan</td>\n",
       "      <td>BUILT UP</td>\n",
       "      <td>WHEEL ASSEMBLY</td>\n",
       "    </tr>\n",
       "    <tr>\n",
       "      <th>9</th>\n",
       "      <td>nan</td>\n",
       "      <td>nan</td>\n",
       "      <td>nan</td>\n",
       "      <td>nan</td>\n",
       "    </tr>\n",
       "  </tbody>\n",
       "</table>\n",
       "</div>"
      ],
      "text/plain": [
       "             Defect Type_1         Defect Item_1              Defect Type  \\\n",
       "0                      nan                   nan                     FAIL   \n",
       "1                      nan                   nan                      nan   \n",
       "2                     WORN                  TIRE                     WORN   \n",
       "3  ILLUMINATED PERMANENTLY             INDICATOR  ILLUMINATED PERMANENTLY   \n",
       "4                      nan                   nan                      nan   \n",
       "5    MESSAGE ALWAYS POSTED  ICE DETECTOR MESSAGE    MESSAGE ALWAYS POSTED   \n",
       "6                      nan                   nan                      nan   \n",
       "7            UNSERVICEABLE        ESPRESSO MAUER            UNSERVICEABLE   \n",
       "8                      nan                   nan                 BUILT UP   \n",
       "9                      nan                   nan                      nan   \n",
       "\n",
       "            Defect Item  \n",
       "0               BATTERY  \n",
       "1                   nan  \n",
       "2                  TIRE  \n",
       "3             INDICATOR  \n",
       "4                   nan  \n",
       "5  ICE DETECTOR MESSAGE  \n",
       "6                   nan  \n",
       "7        ESPRESSO MAUER  \n",
       "8        WHEEL ASSEMBLY  \n",
       "9                   nan  "
      ]
     },
     "execution_count": 5,
     "metadata": {},
     "output_type": "execute_result"
    }
   ],
   "source": [
    "df1[0:10]"
   ]
  },
  {
   "cell_type": "code",
   "execution_count": 7,
   "metadata": {},
   "outputs": [
    {
     "data": {
      "text/plain": [
       "Index(['Defect Type_1', 'Defect Item_1', 'Defect Type', 'Defect Item'], dtype='object')"
      ]
     },
     "execution_count": 7,
     "metadata": {},
     "output_type": "execute_result"
    }
   ],
   "source": [
    "df1.columns"
   ]
  },
  {
   "cell_type": "code",
   "execution_count": 8,
   "metadata": {},
   "outputs": [],
   "source": [
    "result = []\n",
    "count = 0\n",
    "for i in range(len(df1[\"Defect Type\"])):\n",
    "    if df1[\"Defect Type\"][i] == df1[\"Defect Type_1\"][i]:\n",
    "        count = count + 1\n",
    "        result.append(\"Match\")\n",
    "    else:\n",
    "        result.append(\"No Match\")\n",
    "df1[\"Result\"] = result  \n",
    "        \n",
    "    "
   ]
  },
  {
   "cell_type": "code",
   "execution_count": 9,
   "metadata": {},
   "outputs": [
    {
     "data": {
      "text/html": [
       "<div>\n",
       "<style scoped>\n",
       "    .dataframe tbody tr th:only-of-type {\n",
       "        vertical-align: middle;\n",
       "    }\n",
       "\n",
       "    .dataframe tbody tr th {\n",
       "        vertical-align: top;\n",
       "    }\n",
       "\n",
       "    .dataframe thead th {\n",
       "        text-align: right;\n",
       "    }\n",
       "</style>\n",
       "<table border=\"1\" class=\"dataframe\">\n",
       "  <thead>\n",
       "    <tr style=\"text-align: right;\">\n",
       "      <th></th>\n",
       "      <th>Defect Type_1</th>\n",
       "      <th>Defect Item_1</th>\n",
       "      <th>Defect Type</th>\n",
       "      <th>Defect Item</th>\n",
       "      <th>Result</th>\n",
       "    </tr>\n",
       "  </thead>\n",
       "  <tbody>\n",
       "    <tr>\n",
       "      <th>0</th>\n",
       "      <td>nan</td>\n",
       "      <td>nan</td>\n",
       "      <td>FAIL</td>\n",
       "      <td>BATTERY</td>\n",
       "      <td>No Match</td>\n",
       "    </tr>\n",
       "    <tr>\n",
       "      <th>1</th>\n",
       "      <td>nan</td>\n",
       "      <td>nan</td>\n",
       "      <td>nan</td>\n",
       "      <td>nan</td>\n",
       "      <td>Match</td>\n",
       "    </tr>\n",
       "    <tr>\n",
       "      <th>2</th>\n",
       "      <td>WORN</td>\n",
       "      <td>TIRE</td>\n",
       "      <td>WORN</td>\n",
       "      <td>TIRE</td>\n",
       "      <td>Match</td>\n",
       "    </tr>\n",
       "    <tr>\n",
       "      <th>3</th>\n",
       "      <td>ILLUMINATED PERMANENTLY</td>\n",
       "      <td>INDICATOR</td>\n",
       "      <td>ILLUMINATED PERMANENTLY</td>\n",
       "      <td>INDICATOR</td>\n",
       "      <td>Match</td>\n",
       "    </tr>\n",
       "    <tr>\n",
       "      <th>4</th>\n",
       "      <td>nan</td>\n",
       "      <td>nan</td>\n",
       "      <td>nan</td>\n",
       "      <td>nan</td>\n",
       "      <td>Match</td>\n",
       "    </tr>\n",
       "  </tbody>\n",
       "</table>\n",
       "</div>"
      ],
      "text/plain": [
       "             Defect Type_1 Defect Item_1              Defect Type Defect Item  \\\n",
       "0                      nan           nan                     FAIL     BATTERY   \n",
       "1                      nan           nan                      nan         nan   \n",
       "2                     WORN          TIRE                     WORN        TIRE   \n",
       "3  ILLUMINATED PERMANENTLY     INDICATOR  ILLUMINATED PERMANENTLY   INDICATOR   \n",
       "4                      nan           nan                      nan         nan   \n",
       "\n",
       "     Result  \n",
       "0  No Match  \n",
       "1     Match  \n",
       "2     Match  \n",
       "3     Match  \n",
       "4     Match  "
      ]
     },
     "execution_count": 9,
     "metadata": {},
     "output_type": "execute_result"
    }
   ],
   "source": [
    "df1[0:5]"
   ]
  },
  {
   "cell_type": "code",
   "execution_count": 10,
   "metadata": {},
   "outputs": [],
   "source": [
    "acc = count/len(df1)"
   ]
  },
  {
   "cell_type": "code",
   "execution_count": null,
   "metadata": {},
   "outputs": [],
   "source": []
  },
  {
   "cell_type": "code",
   "execution_count": 11,
   "metadata": {},
   "outputs": [
    {
     "data": {
      "text/plain": [
       "0.7605985037406484"
      ]
     },
     "execution_count": 11,
     "metadata": {},
     "output_type": "execute_result"
    }
   ],
   "source": [
    "acc"
   ]
  },
  {
   "cell_type": "code",
   "execution_count": null,
   "metadata": {},
   "outputs": [],
   "source": []
  }
 ],
 "metadata": {
  "kernelspec": {
   "display_name": "Python 3",
   "language": "python",
   "name": "python3"
  },
  "language_info": {
   "codemirror_mode": {
    "name": "ipython",
    "version": 3
   },
   "file_extension": ".py",
   "mimetype": "text/x-python",
   "name": "python",
   "nbconvert_exporter": "python",
   "pygments_lexer": "ipython3",
   "version": "3.6.7"
  }
 },
 "nbformat": 4,
 "nbformat_minor": 2
}
